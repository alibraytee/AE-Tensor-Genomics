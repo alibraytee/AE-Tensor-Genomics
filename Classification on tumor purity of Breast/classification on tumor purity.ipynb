{
 "cells": [
  {
   "cell_type": "code",
   "execution_count": 1,
   "metadata": {},
   "outputs": [],
   "source": [
    "import numpy as np\n",
    "import pandas as pd\n",
    "import matplotlib.pyplot as plt\n",
    "from sklearn.model_selection import train_test_split\n",
    "from sklearn.model_selection import GridSearchCV,RandomizedSearchCV\n",
    "from collections import Counter\n",
    "import warnings\n",
    "warnings.filterwarnings('ignore') \n",
    "\n",
    "from sklearn.metrics import classification_report\n",
    "from sklearn.model_selection import cross_val_score\n",
    "\n",
    "from sklearn.linear_model import LogisticRegression\n",
    "from sklearn.tree import DecisionTreeClassifier\n",
    "from sklearn.naive_bayes import GaussianNB\n",
    "from sklearn.neighbors import KNeighborsClassifier\n",
    "from sklearn.svm import SVC\n",
    "from sklearn.ensemble import GradientBoostingClassifier\n",
    "from sklearn.ensemble import AdaBoostClassifier\n",
    "from sklearn.ensemble import RandomForestClassifier"
   ]
  },
  {
   "cell_type": "markdown",
   "metadata": {},
   "source": [
    "# B73"
   ]
  },
  {
   "cell_type": "code",
   "execution_count": 2,
   "metadata": {},
   "outputs": [],
   "source": [
    "train_clinical = pd.read_csv(\"train_clinical_B73_merged.csv\")\n",
    "test_clinical = pd.read_csv(\"test_clinical_B73_merged.csv\")"
   ]
  },
  {
   "cell_type": "code",
   "execution_count": 3,
   "metadata": {},
   "outputs": [],
   "source": [
    "train_X= pd.read_csv(\"CP breast 73 train rank9.csv\",header=None)\n",
    "test_X = pd.read_csv(\"CP breast 73 test rank9.csv\",header=None)"
   ]
  },
  {
   "cell_type": "code",
   "execution_count": 4,
   "metadata": {},
   "outputs": [],
   "source": [
    "train_Y = train_clinical[\"Tumor_purity\"]\n",
    "train_Y_clean = train_Y.apply(lambda x:1 if x >= 0.7 else 0)\n",
    "\n",
    "y_test = test_clinical[\"Tumor_purity\"]\n",
    "y_test = y_test.apply(lambda x:1 if x >= 0.7 else 0)"
   ]
  },
  {
   "cell_type": "markdown",
   "metadata": {},
   "source": [
    "# logistic "
   ]
  },
  {
   "cell_type": "code",
   "execution_count": 5,
   "metadata": {},
   "outputs": [
    {
     "name": "stdout",
     "output_type": "stream",
     "text": [
      "              precision    recall  f1-score   support\n",
      "\n",
      "           0       0.00      0.00      0.00        75\n",
      "           1       0.59      1.00      0.75       110\n",
      "\n",
      "    accuracy                           0.59       185\n",
      "   macro avg       0.30      0.50      0.37       185\n",
      "weighted avg       0.35      0.59      0.44       185\n",
      "\n"
     ]
    }
   ],
   "source": [
    "LR = LogisticRegression(random_state = 160)\n",
    "LR.fit(train_X,train_Y_clean)\n",
    "\n",
    "LR_y_pred=LR.predict(test_X)\n",
    "print(classification_report(y_test,LR_y_pred))"
   ]
  },
  {
   "cell_type": "markdown",
   "metadata": {},
   "source": [
    "# KNN"
   ]
  },
  {
   "cell_type": "code",
   "execution_count": 6,
   "metadata": {},
   "outputs": [
    {
     "name": "stdout",
     "output_type": "stream",
     "text": [
      "              precision    recall  f1-score   support\n",
      "\n",
      "           0       0.41      1.00      0.58        75\n",
      "           1       0.00      0.00      0.00       110\n",
      "\n",
      "    accuracy                           0.41       185\n",
      "   macro avg       0.20      0.50      0.29       185\n",
      "weighted avg       0.16      0.41      0.23       185\n",
      "\n"
     ]
    }
   ],
   "source": [
    "KNN = KNeighborsClassifier()\n",
    "KNN.fit(train_X,train_Y_clean)\n",
    "\n",
    "KNN_y_pred=KNN.predict(test_X)\n",
    "print(classification_report(y_test,KNN_y_pred))"
   ]
  },
  {
   "cell_type": "markdown",
   "metadata": {},
   "source": [
    "# NB"
   ]
  },
  {
   "cell_type": "code",
   "execution_count": 7,
   "metadata": {},
   "outputs": [
    {
     "name": "stdout",
     "output_type": "stream",
     "text": [
      "              precision    recall  f1-score   support\n",
      "\n",
      "           0       0.00      0.00      0.00        75\n",
      "           1       0.59      1.00      0.75       110\n",
      "\n",
      "    accuracy                           0.59       185\n",
      "   macro avg       0.30      0.50      0.37       185\n",
      "weighted avg       0.35      0.59      0.44       185\n",
      "\n"
     ]
    }
   ],
   "source": [
    "NB = GaussianNB()\n",
    "NB.fit(train_X,train_Y_clean)\n",
    "\n",
    "NB_y_pred=NB.predict(test_X)\n",
    "print(classification_report(y_test,NB_y_pred))"
   ]
  },
  {
   "cell_type": "markdown",
   "metadata": {},
   "source": [
    "# Decision Tree"
   ]
  },
  {
   "cell_type": "code",
   "execution_count": 8,
   "metadata": {},
   "outputs": [
    {
     "name": "stdout",
     "output_type": "stream",
     "text": [
      "              precision    recall  f1-score   support\n",
      "\n",
      "           0       0.41      1.00      0.58        75\n",
      "           1       0.00      0.00      0.00       110\n",
      "\n",
      "    accuracy                           0.41       185\n",
      "   macro avg       0.20      0.50      0.29       185\n",
      "weighted avg       0.16      0.41      0.23       185\n",
      "\n"
     ]
    }
   ],
   "source": [
    "DT = DecisionTreeClassifier(random_state = 100)\n",
    "DT.fit(train_X,train_Y_clean)\n",
    "\n",
    "DT_y_pred=DT.predict(test_X)\n",
    "print(classification_report(y_test,DT_y_pred))"
   ]
  },
  {
   "cell_type": "code",
   "execution_count": 9,
   "metadata": {},
   "outputs": [
    {
     "data": {
      "text/plain": [
       "Counter({0: 185})"
      ]
     },
     "execution_count": 9,
     "metadata": {},
     "output_type": "execute_result"
    }
   ],
   "source": [
    "Counter(DT_y_pred.flatten())"
   ]
  },
  {
   "cell_type": "markdown",
   "metadata": {},
   "source": [
    "# SVM"
   ]
  },
  {
   "cell_type": "code",
   "execution_count": 10,
   "metadata": {},
   "outputs": [
    {
     "name": "stdout",
     "output_type": "stream",
     "text": [
      "              precision    recall  f1-score   support\n",
      "\n",
      "           0       0.00      0.00      0.00        75\n",
      "           1       0.59      1.00      0.75       110\n",
      "\n",
      "    accuracy                           0.59       185\n",
      "   macro avg       0.30      0.50      0.37       185\n",
      "weighted avg       0.35      0.59      0.44       185\n",
      "\n"
     ]
    }
   ],
   "source": [
    "SVC = SVC(random_state = 100)\n",
    "SVC.fit(train_X,train_Y_clean)\n",
    "\n",
    "SVC_y_pred=SVC.predict(test_X)\n",
    "print(classification_report(y_test,SVC_y_pred))"
   ]
  },
  {
   "cell_type": "code",
   "execution_count": 11,
   "metadata": {},
   "outputs": [
    {
     "data": {
      "text/plain": [
       "Counter({1: 185})"
      ]
     },
     "execution_count": 11,
     "metadata": {},
     "output_type": "execute_result"
    }
   ],
   "source": [
    "Counter(SVC_y_pred.flatten())"
   ]
  },
  {
   "cell_type": "markdown",
   "metadata": {},
   "source": [
    "# GradientBoostingClassifer"
   ]
  },
  {
   "cell_type": "code",
   "execution_count": 12,
   "metadata": {},
   "outputs": [
    {
     "name": "stdout",
     "output_type": "stream",
     "text": [
      "max_socre：0.7703488372093024 n_estimators：11\n"
     ]
    },
    {
     "data": {
      "image/png": "[encoded data removed]",
      "text/plain": [
       "<Figure size 432x288 with 1 Axes>"
      ]
     },
     "metadata": {
      "needs_background": "light"
     },
     "output_type": "display_data"
    }
   ],
   "source": [
    "score_lt = []\n",
    "for i in range(0,200,10):\n",
    "    gb = GradientBoostingClassifier(n_estimators=i+1\n",
    "                                ,random_state=100)\n",
    "    score = cross_val_score(gb, train_X, train_Y_clean, cv=10).mean()\n",
    "    score_lt.append(score)\n",
    "score_max = max(score_lt)\n",
    "print('max_socre：{}'.format(score_max),\n",
    "      'n_estimators：{}'.format(score_lt.index(score_max)*10+1))\n",
    "\n",
    "x = np.arange(1,201,10)\n",
    "plt.subplot(111)\n",
    "plt.plot(x, score_lt, 'r-')\n",
    "plt.xlabel(\"n_estimators\")\n",
    "plt.ylabel(\"cross_val_score\")\n",
    "plt.show()"
   ]
  },
  {
   "cell_type": "code",
   "execution_count": 13,
   "metadata": {},
   "outputs": [
    {
     "name": "stdout",
     "output_type": "stream",
     "text": [
      "              precision    recall  f1-score   support\n",
      "\n",
      "           0       0.41      1.00      0.58        75\n",
      "           1       0.00      0.00      0.00       110\n",
      "\n",
      "    accuracy                           0.41       185\n",
      "   macro avg       0.20      0.50      0.29       185\n",
      "weighted avg       0.16      0.41      0.23       185\n",
      "\n"
     ]
    }
   ],
   "source": [
    "GB = GradientBoostingClassifier(n_estimators = 11,random_state = 100)\n",
    "GB.fit(train_X,train_Y_clean)\n",
    "\n",
    "GB_y_pred=GB.predict(test_X)\n",
    "print(classification_report(y_test,GB_y_pred))"
   ]
  },
  {
   "cell_type": "code",
   "execution_count": 14,
   "metadata": {},
   "outputs": [
    {
     "data": {
      "text/plain": [
       "Counter({0: 185})"
      ]
     },
     "execution_count": 14,
     "metadata": {},
     "output_type": "execute_result"
    }
   ],
   "source": [
    "Counter(GB_y_pred.flatten())"
   ]
  },
  {
   "cell_type": "markdown",
   "metadata": {},
   "source": [
    "# Adaboost"
   ]
  },
  {
   "cell_type": "code",
   "execution_count": 15,
   "metadata": {},
   "outputs": [
    {
     "name": "stdout",
     "output_type": "stream",
     "text": [
      "max_socre：0.7866807610993657 n_estimators：1\n"
     ]
    },
    {
     "data": {
      "image/png": "[encoded data removed]",
      "text/plain": [
       "<Figure size 432x288 with 1 Axes>"
      ]
     },
     "metadata": {
      "needs_background": "light"
     },
     "output_type": "display_data"
    }
   ],
   "source": [
    "score_lt = []\n",
    "for i in range(0,200,10):\n",
    "    adb = AdaBoostClassifier(n_estimators=i+1\n",
    "                                ,random_state=100)\n",
    "    score = cross_val_score(adb, train_X, train_Y_clean, cv=10).mean()\n",
    "    score_lt.append(score)\n",
    "score_max = max(score_lt)\n",
    "print('max_socre：{}'.format(score_max),\n",
    "      'n_estimators：{}'.format(score_lt.index(score_max)*10+1))\n",
    "\n",
    "x = np.arange(1,201,10)\n",
    "plt.subplot(111)\n",
    "plt.plot(x, score_lt, 'r-')\n",
    "plt.xlabel(\"n_estimators\")\n",
    "plt.ylabel(\"cross_val_score\")\n",
    "plt.show()"
   ]
  },
  {
   "cell_type": "code",
   "execution_count": 16,
   "metadata": {
    "scrolled": true
   },
   "outputs": [
    {
     "name": "stdout",
     "output_type": "stream",
     "text": [
      "              precision    recall  f1-score   support\n",
      "\n",
      "           0       0.00      0.00      0.00        75\n",
      "           1       0.59      1.00      0.75       110\n",
      "\n",
      "    accuracy                           0.59       185\n",
      "   macro avg       0.30      0.50      0.37       185\n",
      "weighted avg       0.35      0.59      0.44       185\n",
      "\n"
     ]
    }
   ],
   "source": [
    "AB = AdaBoostClassifier(n_estimators = 1, random_state = 100)\n",
    "AB.fit(train_X,train_Y_clean)\n",
    "\n",
    "AB_y_pred=AB.predict(test_X)\n",
    "print(classification_report(y_test,AB_y_pred))"
   ]
  },
  {
   "cell_type": "code",
   "execution_count": 17,
   "metadata": {},
   "outputs": [
    {
     "data": {
      "text/plain": [
       "Counter({1: 185})"
      ]
     },
     "execution_count": 17,
     "metadata": {},
     "output_type": "execute_result"
    }
   ],
   "source": [
    "Counter(AB_y_pred.flatten())"
   ]
  },
  {
   "cell_type": "markdown",
   "metadata": {},
   "source": [
    "# Random forest"
   ]
  },
  {
   "cell_type": "code",
   "execution_count": 18,
   "metadata": {
    "scrolled": true
   },
   "outputs": [
    {
     "name": "stdout",
     "output_type": "stream",
     "text": [
      "              precision    recall  f1-score   support\n",
      "\n",
      "           0       0.83      0.27      0.40        75\n",
      "           1       0.66      0.96      0.78       110\n",
      "\n",
      "    accuracy                           0.68       185\n",
      "   macro avg       0.75      0.62      0.59       185\n",
      "weighted avg       0.73      0.68      0.63       185\n",
      "\n"
     ]
    }
   ],
   "source": [
    "RF= RandomForestClassifier(random_state = 100)\n",
    "RF.fit(train_X,train_Y_clean)\n",
    "\n",
    "RF_y_pred=RF.predict(test_X)\n",
    "print(classification_report(y_test,RF_y_pred))"
   ]
  },
  {
   "cell_type": "code",
   "execution_count": 19,
   "metadata": {},
   "outputs": [
    {
     "data": {
      "text/plain": [
       "Counter({1: 161, 0: 24})"
      ]
     },
     "execution_count": 19,
     "metadata": {},
     "output_type": "execute_result"
    }
   ],
   "source": [
    "Counter(RF_y_pred.flatten())"
   ]
  },
  {
   "cell_type": "markdown",
   "metadata": {},
   "source": [
    "# RF tuning"
   ]
  },
  {
   "cell_type": "code",
   "execution_count": 20,
   "metadata": {},
   "outputs": [
    {
     "name": "stdout",
     "output_type": "stream",
     "text": [
      "max_socre：0.7773784355179704 n_estimators：131\n"
     ]
    },
    {
     "data": {
      "image/png": "[encoded data removed]",
      "text/plain": [
       "<Figure size 432x288 with 1 Axes>"
      ]
     },
     "metadata": {
      "needs_background": "light"
     },
     "output_type": "display_data"
    }
   ],
   "source": [
    "score_lt = []\n",
    "for i in range(0,200,10):\n",
    "    rfc = RandomForestClassifier(n_estimators=i+1\n",
    "                                ,random_state=90)\n",
    "    score = cross_val_score(rfc, train_X, train_Y_clean, cv=10).mean()\n",
    "    score_lt.append(score)\n",
    "score_max = max(score_lt)\n",
    "print('max_socre：{}'.format(score_max),\n",
    "      'n_estimators：{}'.format(score_lt.index(score_max)*10+1))\n",
    "\n",
    "x = np.arange(1,201,10)\n",
    "plt.subplot(111)\n",
    "plt.plot(x, score_lt, 'r-')\n",
    "plt.xlabel(\"n_estimators\")\n",
    "plt.ylabel(\"cross_val_score\")\n",
    "plt.show()"
   ]
  },
  {
   "cell_type": "code",
   "execution_count": 21,
   "metadata": {},
   "outputs": [
    {
     "name": "stdout",
     "output_type": "stream",
     "text": [
      "max_socre：0.7796511627906977 n_estimators：132\n"
     ]
    },
    {
     "data": {
      "image/png": "[encoded data removed]",
      "text/plain": [
       "<Figure size 432x288 with 1 Axes>"
      ]
     },
     "metadata": {
      "needs_background": "light"
     },
     "output_type": "display_data"
    }
   ],
   "source": [
    "score_lt = []\n",
    "for i in range(120,140):\n",
    "    rfc = RandomForestClassifier(n_estimators=i\n",
    "                                ,random_state=90)\n",
    "    score = cross_val_score(rfc, train_X, train_Y_clean, cv=10).mean()\n",
    "    score_lt.append(score)\n",
    "score_max = max(score_lt)\n",
    "print('max_socre：{}'.format(score_max),\n",
    "      'n_estimators：{}'.format(score_lt.index(score_max)+120))\n",
    "\n",
    "x = np.arange(120,140)\n",
    "plt.subplot(111)\n",
    "plt.plot(x, score_lt,'o-')\n",
    "plt.xlabel(\"n_estimators\")\n",
    "plt.ylabel(\"cross_val_score\")\n",
    "plt.show()"
   ]
  },
  {
   "cell_type": "code",
   "execution_count": 22,
   "metadata": {},
   "outputs": [
    {
     "name": "stdout",
     "output_type": "stream",
     "text": [
      "{'max_depth': 2} 0.7890063424947146\n"
     ]
    }
   ],
   "source": [
    "rfc = RandomForestClassifier(n_estimators=133, random_state=90)\n",
    "\n",
    "param_grid = {'max_depth':np.arange(1,50)}\n",
    "GS = GridSearchCV(rfc, param_grid, cv=10)\n",
    "GS.fit(train_X, train_Y_clean)\n",
    "\n",
    "best_param = GS.best_params_\n",
    "best_score = GS.best_score_\n",
    "print(best_param, best_score)"
   ]
  },
  {
   "cell_type": "code",
   "execution_count": 23,
   "metadata": {},
   "outputs": [
    {
     "name": "stdout",
     "output_type": "stream",
     "text": [
      "{'max_features': 9} 0.7959302325581395\n"
     ]
    }
   ],
   "source": [
    "param_grid = {'max_features':np.arange(3,10)}\n",
    "\n",
    "rfc = RandomForestClassifier(n_estimators=133\n",
    "                            ,random_state=100\n",
    "                            ,max_depth=2)\n",
    "GS = GridSearchCV(rfc, param_grid, cv=10)\n",
    "GS.fit(train_X, train_Y_clean)\n",
    "best_param = GS.best_params_\n",
    "best_score = GS.best_score_\n",
    "print(best_param, best_score) "
   ]
  }
 ],
 "metadata": {
  "kernelspec": {
   "display_name": "Python 3",
   "language": "python",
   "name": "python3"
  },
  "language_info": {
   "codemirror_mode": {
    "name": "ipython",
    "version": 3
   },
   "file_extension": ".py",
   "mimetype": "text/x-python",
   "name": "python",
   "nbconvert_exporter": "python",
   "pygments_lexer": "ipython3",
   "version": "3.8.3"
  }
 },
 "nbformat": 4,
 "nbformat_minor": 4
}
