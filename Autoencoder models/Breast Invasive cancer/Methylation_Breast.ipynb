{
 "cells": [
  {
   "cell_type": "code",
   "execution_count": 1,
   "metadata": {},
   "outputs": [],
   "source": [
    "import torch\n",
    "import torch.nn as nn\n",
    "import torch.nn.functional as F\n",
    "import torch.autograd as autograd\n",
    "import torch.optim as optim\n",
    "import time\n",
    "import sklearn\n",
    "import numpy as np\n",
    "import pandas as pd\n",
    "import random\n",
    "from sklearn.preprocessing import MinMaxScaler\n",
    "from sklearn.preprocessing import normalize\n",
    "from sklearn.model_selection import train_test_split\n",
    "from sklearn.model_selection import KFold\n"
   ]
  },
  {
   "cell_type": "code",
   "execution_count": 2,
   "metadata": {},
   "outputs": [
    {
     "name": "stdout",
     "output_type": "stream",
     "text": [
      "(431, 22)\n",
      "(185, 22)\n",
      "(492, 22)\n",
      "(124, 22)\n",
      "data loading time:  943.7239739894867\n"
     ]
    }
   ],
   "source": [
    "start = time.time()\n",
    "methy_breast = pd.read_csv('data_methylation_B.csv')\n",
    "methy_breast_update = methy_breast.rename(columns={\"Unnamed: 0\": \"attrib_name\"})\n",
    "\n",
    "\n",
    "train_clinical73_B = pd.read_csv('train_clinical_B73.csv')\n",
    "#train_clinical73_B = train_clinical73_B.rename(columns={\"Unnamed: 0.1\": \"attrib_name\"})\n",
    "\n",
    "test_clinical73_B = pd.read_csv('test_clinical_B73.csv')\n",
    "#test_clinical73_B = test_clinical73_B.rename(columns={\"Unnamed: 0.1\": \"attrib_name\"})\n",
    "print(train_clinical73_B.shape)\n",
    "print(test_clinical73_B.shape)\n",
    "\n",
    "train_clinical82_B = pd.read_csv('train_clinical_B82.csv')\n",
    "#train_clinical82_B = train_clinical82_B.rename(columns={\"Unnamed: 0.1\": \"attrib_name\"})\n",
    "\n",
    "test_clinical82_B = pd.read_csv('test_clinical_B82.csv')\n",
    "#test_clinical82_B = test_clinical82_B.rename(columns={\"Unnamed: 0.1\": \"attrib_name\"})\n",
    "print(train_clinical82_B.shape)\n",
    "print(test_clinical82_B.shape)\n",
    "\n",
    "\n",
    "end = time.time()\n",
    "\n",
    "exec_time = end - start\n",
    "print(\"data loading time: \", exec_time)"
   ]
  },
  {
   "cell_type": "code",
   "execution_count": 4,
   "metadata": {},
   "outputs": [],
   "source": [
    "# receive the index so that we can match each techs\n",
    "train_idx_82B = train_clinical82_B[['attrib_name']]\n",
    "test_idx_82B = test_clinical82_B[['attrib_name']]\n",
    "\n",
    "train_idx_73B = train_clinical73_B[['attrib_name']]\n",
    "test_idx_73B = test_clinical73_B[['attrib_name']]"
   ]
  },
  {
   "cell_type": "code",
   "execution_count": 7,
   "metadata": {},
   "outputs": [
    {
     "data": {
      "text/html": [
       "<div>\n",
       "<style scoped>\n",
       "    .dataframe tbody tr th:only-of-type {\n",
       "        vertical-align: middle;\n",
       "    }\n",
       "\n",
       "    .dataframe tbody tr th {\n",
       "        vertical-align: top;\n",
       "    }\n",
       "\n",
       "    .dataframe thead th {\n",
       "        text-align: right;\n",
       "    }\n",
       "</style>\n",
       "<table border=\"1\" class=\"dataframe\">\n",
       "  <thead>\n",
       "    <tr style=\"text-align: right;\">\n",
       "      <th></th>\n",
       "      <th>attrib_name</th>\n",
       "    </tr>\n",
       "  </thead>\n",
       "  <tbody>\n",
       "    <tr>\n",
       "      <th>0</th>\n",
       "      <td>TCGA.OK.A5Q2</td>\n",
       "    </tr>\n",
       "    <tr>\n",
       "      <th>1</th>\n",
       "      <td>TCGA.OL.A5D7</td>\n",
       "    </tr>\n",
       "    <tr>\n",
       "      <th>2</th>\n",
       "      <td>TCGA.BH.A8G0</td>\n",
       "    </tr>\n",
       "    <tr>\n",
       "      <th>3</th>\n",
       "      <td>TCGA.D8.A1JP</td>\n",
       "    </tr>\n",
       "    <tr>\n",
       "      <th>4</th>\n",
       "      <td>TCGA.E9.A24A</td>\n",
       "    </tr>\n",
       "    <tr>\n",
       "      <th>...</th>\n",
       "      <td>...</td>\n",
       "    </tr>\n",
       "    <tr>\n",
       "      <th>487</th>\n",
       "      <td>TCGA.AC.A2QI</td>\n",
       "    </tr>\n",
       "    <tr>\n",
       "      <th>488</th>\n",
       "      <td>TCGA.D8.A1XC</td>\n",
       "    </tr>\n",
       "    <tr>\n",
       "      <th>489</th>\n",
       "      <td>TCGA.E2.A1IJ</td>\n",
       "    </tr>\n",
       "    <tr>\n",
       "      <th>490</th>\n",
       "      <td>TCGA.E2.A14U</td>\n",
       "    </tr>\n",
       "    <tr>\n",
       "      <th>491</th>\n",
       "      <td>TCGA.EW.A6SC</td>\n",
       "    </tr>\n",
       "  </tbody>\n",
       "</table>\n",
       "<p>492 rows × 1 columns</p>\n",
       "</div>"
      ],
      "text/plain": [
       "      attrib_name\n",
       "0    TCGA.OK.A5Q2\n",
       "1    TCGA.OL.A5D7\n",
       "2    TCGA.BH.A8G0\n",
       "3    TCGA.D8.A1JP\n",
       "4    TCGA.E9.A24A\n",
       "..            ...\n",
       "487  TCGA.AC.A2QI\n",
       "488  TCGA.D8.A1XC\n",
       "489  TCGA.E2.A1IJ\n",
       "490  TCGA.E2.A14U\n",
       "491  TCGA.EW.A6SC\n",
       "\n",
       "[492 rows x 1 columns]"
      ]
     },
     "execution_count": 7,
     "metadata": {},
     "output_type": "execute_result"
    }
   ],
   "source": [
    "train_idx_82B"
   ]
  },
  {
   "cell_type": "markdown",
   "metadata": {},
   "source": [
    "## Models and Support Functions"
   ]
  },
  {
   "cell_type": "code",
   "execution_count": 9,
   "metadata": {},
   "outputs": [],
   "source": [
    "# Build up autoencoder model\n",
    "class autoencoder(nn.Module):\n",
    "    def __init__(self):\n",
    "        super(autoencoder, self).__init__()\n",
    "        self.encoder = nn.Sequential(\n",
    "            nn.Linear(embed_dim, 1024),\n",
    "            nn.ReLU(True),\n",
    "            nn.Linear(1024, 512),\n",
    "            nn.ReLU(True),\n",
    "            nn.Linear(512, 256)\n",
    "        )\n",
    "        self.decoder = nn.Sequential(\n",
    "            nn.Linear(256, 512),\n",
    "            nn.ReLU(True),\n",
    "            nn.Linear(512, 1024),\n",
    "            nn.ReLU(True),\n",
    "            nn.Linear(1024, embed_dim),\n",
    "            nn.Tanh()\n",
    "        )\n",
    "        \n",
    "    def forward(self, x):\n",
    "        latent = self.encoder(x)\n",
    "        output = self.decoder(latent)\n",
    "        return output"
   ]
  },
  {
   "cell_type": "code",
   "execution_count": 10,
   "metadata": {},
   "outputs": [],
   "source": [
    "device = torch.device(\"cuda\" if torch.cuda.is_available() else \"cpu\")\n",
    "torch.manual_seed(123)\n",
    "\n",
    "#train_torch = torch.FloatTensor(train_scaled)\n",
    "#test_torch = torch.FloatTensor(test_scaled)\n",
    "\n",
    "criterion = nn.MSELoss()\n",
    "\n",
    "k = 10\n",
    "batch_size = 128\n",
    "epochs = 10\n",
    "lr = 0.001\n",
    "\n",
    "kfold = KFold(n_splits=10, random_state=123, shuffle=True)\n"
   ]
  },
  {
   "cell_type": "code",
   "execution_count": 11,
   "metadata": {},
   "outputs": [],
   "source": [
    "#define train function and validation function\n",
    "def train_epoch(model, device, optimizer, loss_func, dataloader):\n",
    "    model.train()\n",
    "    train_loss = 0.0\n",
    "    \n",
    "    for features in dataloader:\n",
    "        features = features.to(device)\n",
    "        optimizer.zero_grad()\n",
    "        output = model(features)\n",
    "        loss = loss_func(output, features)\n",
    "    \n",
    "        loss.backward()\n",
    "        optimizer.step()\n",
    "\n",
    "        train_loss += loss.item()\n",
    "\n",
    "    train_loss = train_loss/len(dataloader)\n",
    "\n",
    "    return train_loss\n",
    "  \n",
    "def validation_epoch(model, device, loss_func, dataloader):\n",
    "    model.eval()\n",
    "    valid_loss = 0.0\n",
    "\n",
    "    for features in dataloader:\n",
    "        features = features.to(device)\n",
    "        output = model(features)\n",
    "        loss = loss_func(output, features)\n",
    "\n",
    "        valid_loss += loss.item()\n",
    "        \n",
    "    valid_loss = valid_loss/len(dataloader)\n",
    "\n",
    "    return valid_loss"
   ]
  },
  {
   "cell_type": "markdown",
   "metadata": {},
   "source": [
    "## Load Breast 7:3 splits"
   ]
  },
  {
   "cell_type": "code",
   "execution_count": 5,
   "metadata": {},
   "outputs": [
    {
     "name": "stdout",
     "output_type": "stream",
     "text": [
      "(616, 335855)\n",
      "(431, 335855)\n",
      "(185, 335855)\n"
     ]
    }
   ],
   "source": [
    "train_breast_73B = methy_breast_update.merge(train_idx_73B, on='attrib_name', how=\"inner\")\n",
    "test_breast_73B = methy_breast_update.merge(test_idx_73B, on='attrib_name', how=\"inner\")\n",
    "\n",
    "\n",
    "print(methy_breast_update.shape)\n",
    "print(train_breast_73B.shape)\n",
    "print(test_breast_73B.shape)"
   ]
  },
  {
   "cell_type": "code",
   "execution_count": 6,
   "metadata": {},
   "outputs": [
    {
     "name": "stdout",
     "output_type": "stream",
     "text": [
      "attrib_name               0\n",
      "RBL2_cg00000029           0\n",
      "VDAC3_cg00000236          0\n",
      "ACTN1_cg00000289          0\n",
      "ATP2A1_cg00000292         0\n",
      "                         ..\n",
      "SNORD66_ch.3.3596501R    19\n",
      "FAM13B_ch.5.2533205R     20\n",
      "PKD2L2_ch.5.2533205R     20\n",
      "HNRNPK_ch.9.1116984R     31\n",
      "MIR7-1_ch.9.1116984R     31\n",
      "Length: 335855, dtype: int64\n",
      "attrib_name              0\n",
      "RBL2_cg00000029          0\n",
      "VDAC3_cg00000236         0\n",
      "ACTN1_cg00000289         0\n",
      "ATP2A1_cg00000292        0\n",
      "                        ..\n",
      "SNORD66_ch.3.3596501R    0\n",
      "FAM13B_ch.5.2533205R     0\n",
      "PKD2L2_ch.5.2533205R     0\n",
      "HNRNPK_ch.9.1116984R     0\n",
      "MIR7-1_ch.9.1116984R     0\n",
      "Length: 335855, dtype: int64\n",
      "---------------------------------\n",
      "attrib_name              0\n",
      "RBL2_cg00000029          0\n",
      "VDAC3_cg00000236         0\n",
      "ACTN1_cg00000289         0\n",
      "ATP2A1_cg00000292        0\n",
      "                        ..\n",
      "SNORD66_ch.3.3596501R    3\n",
      "FAM13B_ch.5.2533205R     5\n",
      "PKD2L2_ch.5.2533205R     5\n",
      "HNRNPK_ch.9.1116984R     8\n",
      "MIR7-1_ch.9.1116984R     8\n",
      "Length: 335855, dtype: int64\n",
      "attrib_name              0\n",
      "RBL2_cg00000029          0\n",
      "VDAC3_cg00000236         0\n",
      "ACTN1_cg00000289         0\n",
      "ATP2A1_cg00000292        0\n",
      "                        ..\n",
      "SNORD66_ch.3.3596501R    0\n",
      "FAM13B_ch.5.2533205R     0\n",
      "PKD2L2_ch.5.2533205R     0\n",
      "HNRNPK_ch.9.1116984R     0\n",
      "MIR7-1_ch.9.1116984R     0\n",
      "Length: 335855, dtype: int64\n"
     ]
    }
   ],
   "source": [
    "# fill empty value with mean of each column\n",
    "\n",
    "print(train_breast_73B.isna().sum())\n",
    "train_breast_73B = train_breast_73B.fillna(train_breast_73B.mean())\n",
    "print(train_breast_73B.isna().sum())\n",
    "print(\"---------------------------------\")\n",
    "print(test_breast_73B.isna().sum())\n",
    "test_breast_73B= test_breast_73B.fillna(test_breast_73B.mean())\n",
    "print(test_breast_73B.isna().sum())\n"
   ]
  },
  {
   "cell_type": "code",
   "execution_count": 7,
   "metadata": {},
   "outputs": [
    {
     "name": "stdout",
     "output_type": "stream",
     "text": [
      "(431, 335854)\n",
      "(185, 335854)\n"
     ]
    }
   ],
   "source": [
    "train_breast_73 = train_breast_73B.iloc[:, 1:]\n",
    "test_breast_73 = test_breast_73B.iloc[:, 1:]\n",
    "print(train_breast_73.shape)\n",
    "print(test_breast_73.shape)\n",
    "train_breast73_numpy = train_breast_73.to_numpy()\n",
    "test_breast73_numpy = test_breast_73.to_numpy()\n",
    "\n",
    "scaler_breast73 = MinMaxScaler()\n",
    "train_breast73_scaled = scaler_breast73.fit_transform(train_breast73_numpy)\n",
    "test_breast73_scaled = scaler_breast73.transform(test_breast73_numpy)"
   ]
  },
  {
   "cell_type": "code",
   "execution_count": 8,
   "metadata": {},
   "outputs": [],
   "source": [
    "# convert to tensor type\n",
    "train_breast73_torch = torch.FloatTensor(train_breast73_scaled)\n",
    "test_breast73_torch = torch.FloatTensor(test_breast73_scaled)"
   ]
  },
  {
   "cell_type": "code",
   "execution_count": null,
   "metadata": {},
   "outputs": [],
   "source": [
    "#save the attrib_name\n",
    "train_breast73_name = train_breast_73B.iloc[:, 0]\n",
    "test_breast73_name = test_breast_73B.iloc[:, 0]\n",
    "print(train_breast73_name)\n",
    "print(test_breast73_name)\n",
    "\n",
    "train_breast73_name.to_csv(\"train_73B_idx.csv\")\n",
    "test_breast73_name.to_csv(\"test_73B_idx.csv\")"
   ]
  },
  {
   "cell_type": "markdown",
   "metadata": {},
   "source": [
    "### Breast 7:3 training and output"
   ]
  },
  {
   "cell_type": "code",
   "execution_count": 13,
   "metadata": {},
   "outputs": [
    {
     "name": "stdout",
     "output_type": "stream",
     "text": [
      "Fold:  1\n",
      "epoch [1/10], train_loss:0.5057, valid_loss:0.2119\n",
      "epoch [2/10], train_loss:0.1353, valid_loss:0.0563\n",
      "epoch [3/10], train_loss:0.0543, valid_loss:0.0333\n",
      "epoch [4/10], train_loss:0.0422, valid_loss:0.0346\n",
      "epoch [5/10], train_loss:0.0338, valid_loss:0.0270\n",
      "epoch [6/10], train_loss:0.0291, valid_loss:0.0249\n",
      "epoch [7/10], train_loss:0.0294, valid_loss:0.0236\n",
      "epoch [8/10], train_loss:0.0265, valid_loss:0.0226\n",
      "epoch [9/10], train_loss:0.0277, valid_loss:0.0225\n",
      "epoch [10/10], train_loss:0.0239, valid_loss:0.0224\n",
      "Fold:  2\n",
      "epoch [1/10], train_loss:0.5014, valid_loss:0.2166\n",
      "epoch [2/10], train_loss:0.1358, valid_loss:0.0586\n",
      "epoch [3/10], train_loss:0.0457, valid_loss:0.0411\n",
      "epoch [4/10], train_loss:0.0366, valid_loss:0.0343\n",
      "epoch [5/10], train_loss:0.0313, valid_loss:0.0314\n",
      "epoch [6/10], train_loss:0.0278, valid_loss:0.0302\n",
      "epoch [7/10], train_loss:0.0262, valid_loss:0.0295\n",
      "epoch [8/10], train_loss:0.0265, valid_loss:0.0283\n",
      "epoch [9/10], train_loss:0.0245, valid_loss:0.0280\n",
      "epoch [10/10], train_loss:0.0232, valid_loss:0.0283\n",
      "Fold:  3\n",
      "epoch [1/10], train_loss:0.5084, valid_loss:0.2230\n",
      "epoch [2/10], train_loss:0.1551, valid_loss:0.0673\n",
      "epoch [3/10], train_loss:0.0591, valid_loss:0.0390\n",
      "epoch [4/10], train_loss:0.0356, valid_loss:0.0311\n",
      "epoch [5/10], train_loss:0.0307, valid_loss:0.0278\n",
      "epoch [6/10], train_loss:0.0269, valid_loss:0.0257\n",
      "epoch [7/10], train_loss:0.0254, valid_loss:0.0250\n",
      "epoch [8/10], train_loss:0.0249, valid_loss:0.0245\n",
      "epoch [9/10], train_loss:0.0245, valid_loss:0.0244\n",
      "epoch [10/10], train_loss:0.0291, valid_loss:0.0247\n",
      "Fold:  4\n",
      "epoch [1/10], train_loss:0.5053, valid_loss:0.2331\n",
      "epoch [2/10], train_loss:0.1425, valid_loss:0.0699\n",
      "epoch [3/10], train_loss:0.0538, valid_loss:0.0371\n",
      "epoch [4/10], train_loss:0.0328, valid_loss:0.0333\n",
      "epoch [5/10], train_loss:0.0308, valid_loss:0.0316\n",
      "epoch [6/10], train_loss:0.0286, valid_loss:0.0303\n",
      "epoch [7/10], train_loss:0.0290, valid_loss:0.0300\n",
      "epoch [8/10], train_loss:0.0252, valid_loss:0.0277\n",
      "epoch [9/10], train_loss:0.0261, valid_loss:0.0277\n",
      "epoch [10/10], train_loss:0.0245, valid_loss:0.0278\n",
      "Fold:  5\n",
      "epoch [1/10], train_loss:0.5056, valid_loss:0.1791\n",
      "epoch [2/10], train_loss:0.1208, valid_loss:0.0626\n",
      "epoch [3/10], train_loss:0.0520, valid_loss:0.0403\n",
      "epoch [4/10], train_loss:0.0419, valid_loss:0.0312\n",
      "epoch [5/10], train_loss:0.0319, valid_loss:0.0288\n",
      "epoch [6/10], train_loss:0.0270, valid_loss:0.0268\n",
      "epoch [7/10], train_loss:0.0256, valid_loss:0.0262\n",
      "epoch [8/10], train_loss:0.0241, valid_loss:0.0254\n",
      "epoch [9/10], train_loss:0.0283, valid_loss:0.0256\n",
      "epoch [10/10], train_loss:0.0233, valid_loss:0.0249\n",
      "Fold:  6\n",
      "epoch [1/10], train_loss:0.5202, valid_loss:0.2216\n",
      "epoch [2/10], train_loss:0.1454, valid_loss:0.0684\n",
      "epoch [3/10], train_loss:0.0516, valid_loss:0.0377\n",
      "epoch [4/10], train_loss:0.0379, valid_loss:0.0322\n",
      "epoch [5/10], train_loss:0.0297, valid_loss:0.0297\n",
      "epoch [6/10], train_loss:0.0251, valid_loss:0.0294\n",
      "epoch [7/10], train_loss:0.0255, valid_loss:0.0274\n",
      "epoch [8/10], train_loss:0.0246, valid_loss:0.0270\n",
      "epoch [9/10], train_loss:0.0270, valid_loss:0.0270\n",
      "epoch [10/10], train_loss:0.0261, valid_loss:0.0266\n",
      "Fold:  7\n",
      "epoch [1/10], train_loss:0.5122, valid_loss:0.2152\n",
      "epoch [2/10], train_loss:0.1435, valid_loss:0.0609\n",
      "epoch [3/10], train_loss:0.0498, valid_loss:0.0385\n",
      "epoch [4/10], train_loss:0.0347, valid_loss:0.0310\n",
      "epoch [5/10], train_loss:0.0294, valid_loss:0.0279\n",
      "epoch [6/10], train_loss:0.0270, valid_loss:0.0271\n",
      "epoch [7/10], train_loss:0.0279, valid_loss:0.0258\n",
      "epoch [8/10], train_loss:0.0260, valid_loss:0.0249\n",
      "epoch [9/10], train_loss:0.0257, valid_loss:0.0250\n",
      "epoch [10/10], train_loss:0.0234, valid_loss:0.0245\n",
      "Fold:  8\n",
      "epoch [1/10], train_loss:0.5223, valid_loss:0.2339\n",
      "epoch [2/10], train_loss:0.1433, valid_loss:0.0662\n",
      "epoch [3/10], train_loss:0.0480, valid_loss:0.0342\n",
      "epoch [4/10], train_loss:0.0384, valid_loss:0.0317\n",
      "epoch [5/10], train_loss:0.0338, valid_loss:0.0292\n",
      "epoch [6/10], train_loss:0.0291, valid_loss:0.0277\n",
      "epoch [7/10], train_loss:0.0274, valid_loss:0.0255\n",
      "epoch [8/10], train_loss:0.0250, valid_loss:0.0238\n",
      "epoch [9/10], train_loss:0.0264, valid_loss:0.0239\n",
      "epoch [10/10], train_loss:0.0286, valid_loss:0.0255\n",
      "Fold:  9\n",
      "epoch [1/10], train_loss:0.4949, valid_loss:0.1939\n",
      "epoch [2/10], train_loss:0.1254, valid_loss:0.0666\n",
      "epoch [3/10], train_loss:0.0605, valid_loss:0.0594\n",
      "epoch [4/10], train_loss:0.0414, valid_loss:0.0370\n",
      "epoch [5/10], train_loss:0.0307, valid_loss:0.0323\n",
      "epoch [6/10], train_loss:0.0275, valid_loss:0.0310\n",
      "epoch [7/10], train_loss:0.0274, valid_loss:0.0299\n",
      "epoch [8/10], train_loss:0.0252, valid_loss:0.0290\n",
      "epoch [9/10], train_loss:0.0229, valid_loss:0.0288\n",
      "epoch [10/10], train_loss:0.0247, valid_loss:0.0285\n",
      "Fold:  10\n",
      "epoch [1/10], train_loss:0.5035, valid_loss:0.2109\n",
      "epoch [2/10], train_loss:0.1393, valid_loss:0.0557\n",
      "epoch [3/10], train_loss:0.0470, valid_loss:0.0334\n",
      "epoch [4/10], train_loss:0.0325, valid_loss:0.0290\n",
      "epoch [5/10], train_loss:0.0299, valid_loss:0.0264\n",
      "epoch [6/10], train_loss:0.0307, valid_loss:0.0244\n",
      "epoch [7/10], train_loss:0.0297, valid_loss:0.0261\n",
      "epoch [8/10], train_loss:0.0250, valid_loss:0.0245\n",
      "epoch [9/10], train_loss:0.0269, valid_loss:0.0237\n",
      "epoch [10/10], train_loss:0.0237, valid_loss:0.0233\n"
     ]
    }
   ],
   "source": [
    "# 10 fold cross validation\n",
    "train_fold_loss = []\n",
    "valid_fold_loss = []\n",
    "embed_dim = train_breast73_torch.shape[1]\n",
    "\n",
    "# assign train_torch and test_torch\n",
    "train_torch = train_breast73_torch\n",
    "test_torch = test_breast73_torch\n",
    "\n",
    "for k, (train_idx,valid_idx) in enumerate(kfold.split(np.arange(len(train_torch)))):\n",
    "    \n",
    "    print('Fold: ', k+1 )\n",
    "    train_sampler = torch.utils.data.SubsetRandomSampler(train_idx)\n",
    "    valid_sampler = torch.utils.data.SubsetRandomSampler(valid_idx)\n",
    "\n",
    "    train_loader = torch.utils.data.DataLoader(\n",
    "      train_torch, batch_size=batch_size, sampler=train_sampler\n",
    "  )\n",
    "    valid_loader = torch.utils.data.DataLoader(\n",
    "      train_torch, batch_size=batch_size, sampler=valid_sampler\n",
    "  )\n",
    "\n",
    "    model = autoencoder().to(device)\n",
    "    optimizer = optim.Adam(model.parameters(), lr=lr)\n",
    "\n",
    "    for epoch in range(epochs):\n",
    "        train_loss = train_epoch(model, device, optimizer, criterion, train_loader)\n",
    "        valid_loss = validation_epoch(model, device, criterion, valid_loader)\n",
    "\n",
    "        print('epoch [{}/{}], train_loss:{:.4f}, valid_loss:{:.4f}'\n",
    "          .format(epoch + 1, epochs, train_loss, valid_loss))\n",
    "    \n",
    "    train_fold_loss.append(train_loss)\n",
    "    valid_fold_loss.append(valid_loss)"
   ]
  },
  {
   "cell_type": "code",
   "execution_count": null,
   "metadata": {},
   "outputs": [],
   "source": [
    "#draw diagram for 10 fold loss comparison"
   ]
  },
  {
   "cell_type": "code",
   "execution_count": 13,
   "metadata": {},
   "outputs": [
    {
     "name": "stdout",
     "output_type": "stream",
     "text": [
      "epoch [1/10], train_loss:0.5043\n",
      "epoch [2/10], train_loss:0.1348\n",
      "epoch [3/10], train_loss:0.0497\n",
      "epoch [4/10], train_loss:0.0372\n",
      "epoch [5/10], train_loss:0.0312\n",
      "epoch [6/10], train_loss:0.0283\n",
      "epoch [7/10], train_loss:0.0269\n",
      "epoch [8/10], train_loss:0.0258\n",
      "epoch [9/10], train_loss:0.0252\n",
      "epoch [10/10], train_loss:0.0246\n"
     ]
    }
   ],
   "source": [
    "# formal training\n",
    "embed_dim = train_breast73_torch.shape[1]\n",
    "\n",
    "\n",
    "train_breast73_loader = torch.utils.data.DataLoader(\n",
    "      train_breast73_torch, batch_size=batch_size, shuffle=True\n",
    "  )\n",
    "test_breast73_loader = torch.utils.data.DataLoader(\n",
    "      test_breast73_torch, batch_size=batch_size, shuffle=False\n",
    "  )\n",
    "\n",
    "model_methy_73B = autoencoder().to(device)\n",
    "optimizer = optim.Adam(model_methy_73B.parameters(), lr=lr)\n",
    "                    \n",
    "for epoch in range(epochs):\n",
    "    train_loss = train_epoch(model_methy_73B, device, optimizer, criterion, train_breast73_loader)\n",
    "\n",
    "    print('epoch [{}/{}], train_loss:{:.4f}'\n",
    "        .format(epoch + 1, epochs, train_loss))"
   ]
  },
  {
   "cell_type": "code",
   "execution_count": 14,
   "metadata": {},
   "outputs": [
    {
     "data": {
      "text/plain": [
       "[<matplotlib.lines.Line2D at 0x237c4069a00>]"
      ]
     },
     "execution_count": 14,
     "metadata": {},
     "output_type": "execute_result"
    },
    {
     "data": {
      "image/png": "[encoded data removed]",
      "text/plain": [
       "<Figure size 432x288 with 1 Axes>"
      ]
     },
     "metadata": {
      "needs_background": "light"
     },
     "output_type": "display_data"
    }
   ],
   "source": [
    "import matplotlib.pyplot as plt\n",
    "plt.title(\"Breast Methylation training\", loc=\"left\")\n",
    "plt.title(\"optimal latent size: 256\", loc=\"right\")\n",
    "plt.xlabel(\"Epoch\")\n",
    "plt.ylabel(\"Loss\")\n",
    "loss = [0.5043, 0.1348, 0.0497, 0.0372, 0.0312, 0.0283, 0.0269, 0.0258, 0.0252, 0.0246]\n",
    "plt.plot(range(1,11), loss)"
   ]
  },
  {
   "cell_type": "code",
   "execution_count": 15,
   "metadata": {},
   "outputs": [
    {
     "name": "stderr",
     "output_type": "stream",
     "text": [
      "C:\\conda\\lib\\site-packages\\torch\\serialization.py:359: UserWarning: Couldn't retrieve source code for container of type autoencoder. It won't be checked for correctness upon loading.\n",
      "  warnings.warn(\"Couldn't retrieve source code for container of \"\n"
     ]
    },
    {
     "data": {
      "text/plain": [
       "autoencoder(\n",
       "  (encoder): Sequential(\n",
       "    (0): Linear(in_features=335854, out_features=1024, bias=True)\n",
       "    (1): ReLU(inplace=True)\n",
       "    (2): Linear(in_features=1024, out_features=512, bias=True)\n",
       "    (3): ReLU(inplace=True)\n",
       "    (4): Linear(in_features=512, out_features=256, bias=True)\n",
       "  )\n",
       "  (decoder): Sequential(\n",
       "    (0): Linear(in_features=256, out_features=512, bias=True)\n",
       "    (1): ReLU(inplace=True)\n",
       "    (2): Linear(in_features=512, out_features=1024, bias=True)\n",
       "    (3): ReLU(inplace=True)\n",
       "    (4): Linear(in_features=1024, out_features=335854, bias=True)\n",
       "    (5): Tanh()\n",
       "  )\n",
       ")"
      ]
     },
     "execution_count": 15,
     "metadata": {},
     "output_type": "execute_result"
    }
   ],
   "source": [
    "# save and load the model\n",
    "torch.save(model_methy_73B, \"methy_73B.pt\")\n",
    "\n",
    "methy_73B = torch.load(\"methy_73B.pt\")\n",
    "methy_73B"
   ]
  },
  {
   "cell_type": "code",
   "execution_count": 16,
   "metadata": {},
   "outputs": [
    {
     "name": "stdout",
     "output_type": "stream",
     "text": [
      "torch.Size([431, 256])\n",
      "tensor([[-3.8543,  2.9750,  1.4633,  ...,  1.6653,  1.6093,  1.2630],\n",
      "        [-4.0798,  3.1637,  1.5636,  ...,  1.6746,  1.8015,  1.5152],\n",
      "        [-4.3704,  3.3216,  1.7542,  ...,  1.7844,  1.9014,  1.6852],\n",
      "        ...,\n",
      "        [-3.5853,  2.8613,  1.2501,  ...,  1.5577,  1.5758,  1.2946],\n",
      "        [-4.3588,  3.3441,  1.6394,  ...,  1.8042,  1.8744,  1.6326],\n",
      "        [-3.3975,  2.8514,  1.1673,  ...,  1.6179,  1.4575,  1.2255]],\n",
      "       grad_fn=<AddmmBackward>)\n"
     ]
    }
   ],
   "source": [
    "# for train data only\n",
    "methy_Tr73B_output = methy_73B.encoder(train_breast73_torch)\n",
    "print(methy_Tr73B_output.shape)\n",
    "print(methy_Tr73B_output)\n",
    "methy_Tr73B_output = methy_Tr73B_output.cpu().detach().numpy()\n",
    "np.savetxt('methy_Tr73B.csv', methy_Tr73B_output, delimiter=',')"
   ]
  },
  {
   "cell_type": "code",
   "execution_count": 14,
   "metadata": {},
   "outputs": [
    {
     "data": {
      "text/plain": [
       "autoencoder(\n",
       "  (encoder): Sequential(\n",
       "    (0): Linear(in_features=335854, out_features=1024, bias=True)\n",
       "    (1): ReLU(inplace=True)\n",
       "    (2): Linear(in_features=1024, out_features=512, bias=True)\n",
       "    (3): ReLU(inplace=True)\n",
       "    (4): Linear(in_features=512, out_features=256, bias=True)\n",
       "  )\n",
       "  (decoder): Sequential(\n",
       "    (0): Linear(in_features=256, out_features=512, bias=True)\n",
       "    (1): ReLU(inplace=True)\n",
       "    (2): Linear(in_features=512, out_features=1024, bias=True)\n",
       "    (3): ReLU(inplace=True)\n",
       "    (4): Linear(in_features=1024, out_features=335854, bias=True)\n",
       "    (5): Tanh()\n",
       "  )\n",
       ")"
      ]
     },
     "execution_count": 14,
     "metadata": {},
     "output_type": "execute_result"
    }
   ],
   "source": [
    "# for test data only\n",
    "methy73B = torch.load('methy_73B.pt')\n",
    "methy73B"
   ]
  },
  {
   "cell_type": "code",
   "execution_count": 15,
   "metadata": {},
   "outputs": [
    {
     "name": "stdout",
     "output_type": "stream",
     "text": [
      "torch.Size([185, 256])\n",
      "tensor([[-3.9318,  3.0726,  1.4551,  ...,  1.6895,  1.6813,  1.4507],\n",
      "        [-3.8185,  3.0313,  1.3256,  ...,  1.7260,  1.6063,  1.5084],\n",
      "        [-3.7031,  2.9749,  1.2746,  ...,  1.6596,  1.5919,  1.4191],\n",
      "        ...,\n",
      "        [-4.7298,  3.6131,  1.9112,  ...,  1.9490,  2.0221,  1.8171],\n",
      "        [-4.1550,  3.2284,  1.4967,  ...,  1.8667,  1.7181,  1.5702],\n",
      "        [-4.4544,  3.3996,  1.7519,  ...,  1.8849,  1.8532,  1.6689]],\n",
      "       grad_fn=<AddmmBackward>)\n"
     ]
    }
   ],
   "source": [
    "methy_Test73B_output = methy73B.encoder(test_breast73_torch)\n",
    "print(methy_Test73B_output.shape)\n",
    "print(methy_Test73B_output)\n",
    "methy_Test73B_output = methy_Test73B_output.cpu().detach().numpy()\n",
    "np.savetxt('methy_Test73B.csv', methy_Test73B_output, delimiter=',')"
   ]
  },
  {
   "cell_type": "code",
   "execution_count": null,
   "metadata": {},
   "outputs": [],
   "source": [
    "# for whole data only"
   ]
  },
  {
   "cell_type": "markdown",
   "metadata": {},
   "source": [
    "## Load Breast 8:2 splits"
   ]
  },
  {
   "cell_type": "code",
   "execution_count": 16,
   "metadata": {},
   "outputs": [
    {
     "name": "stdout",
     "output_type": "stream",
     "text": [
      "(616, 335855)\n",
      "(492, 335855)\n",
      "(124, 335855)\n"
     ]
    }
   ],
   "source": [
    "train_breast_82B = methy_breast_update.merge(train_idx_82B, on='attrib_name', how=\"inner\")\n",
    "test_breast_82B = methy_breast_update.merge(test_idx_82B, on='attrib_name', how=\"inner\")\n",
    "\n",
    "\n",
    "print(methy_breast_update.shape)\n",
    "print(train_breast_82B.shape)\n",
    "print(test_breast_82B.shape)"
   ]
  },
  {
   "cell_type": "code",
   "execution_count": null,
   "metadata": {},
   "outputs": [],
   "source": [
    "print(train_breast_82B.isna().sum())\n",
    "train_breast_82B = train_breast_82B.fillna(train_breast_82B.mean())\n",
    "print(train_breast_82B.isna().sum())\n",
    "print(\"---------------------------------\")\n",
    "print(test_breast_82B.isna().sum())\n",
    "test_breast_82B= test_breast_82B.fillna(test_breast_82B.mean())\n",
    "print(test_breast_82B.isna().sum())\n"
   ]
  },
  {
   "cell_type": "code",
   "execution_count": 18,
   "metadata": {},
   "outputs": [
    {
     "name": "stdout",
     "output_type": "stream",
     "text": [
      "(492, 335854)\n",
      "(124, 335854)\n"
     ]
    }
   ],
   "source": [
    "train_breast_82 = train_breast_82B.iloc[:, 1:]\n",
    "test_breast_82 = test_breast_82B.iloc[:, 1:]\n",
    "print(train_breast_82.shape)\n",
    "print(test_breast_82.shape)\n",
    "train_breast82_numpy = train_breast_82.to_numpy()\n",
    "test_breast82_numpy = test_breast_82.to_numpy()\n",
    "\n",
    "scaler_breast82 = MinMaxScaler()\n",
    "train_breast82_scaled = scaler_breast82.fit_transform(train_breast82_numpy)\n",
    "test_breast82_scaled = scaler_breast82.transform(test_breast82_numpy)"
   ]
  },
  {
   "cell_type": "code",
   "execution_count": 19,
   "metadata": {},
   "outputs": [],
   "source": [
    "# convert to tensor type\n",
    "train_breast82_torch = torch.FloatTensor(train_breast82_scaled)\n",
    "test_breast82_torch = torch.FloatTensor(test_breast82_scaled)"
   ]
  },
  {
   "cell_type": "code",
   "execution_count": 21,
   "metadata": {},
   "outputs": [
    {
     "name": "stdout",
     "output_type": "stream",
     "text": [
      "0      TCGA.3C.AAAU\n",
      "1      TCGA.3C.AALI\n",
      "2      TCGA.3C.AALJ\n",
      "3      TCGA.3C.AALK\n",
      "4      TCGA.4H.AAAK\n",
      "           ...     \n",
      "487    TCGA.WT.AB41\n",
      "488    TCGA.XX.A899\n",
      "489    TCGA.XX.A89A\n",
      "490    TCGA.Z7.A8R5\n",
      "491    TCGA.Z7.A8R6\n",
      "Name: attrib_name, Length: 492, dtype: object\n",
      "0      TCGA.5L.AAT0\n",
      "1      TCGA.A1.A0SF\n",
      "2      TCGA.A1.A0SI\n",
      "3      TCGA.A1.A0SQ\n",
      "4      TCGA.A2.A25E\n",
      "           ...     \n",
      "119    TCGA.PL.A8LX\n",
      "120    TCGA.S3.AA12\n",
      "121    TCGA.S3.AA17\n",
      "122    TCGA.W8.A86G\n",
      "123    TCGA.WT.AB44\n",
      "Name: attrib_name, Length: 124, dtype: object\n"
     ]
    }
   ],
   "source": [
    "#save the attrib_name\n",
    "train_breast82_name = train_breast_82B.iloc[:, 0]\n",
    "test_breast82_name = test_breast_82B.iloc[:, 0]\n",
    "print(train_breast82_name)\n",
    "print(test_breast82_name)\n",
    "\n",
    "train_breast82_name.to_csv(\"train_82B_idx.csv\")\n",
    "test_breast82_name.to_csv(\"test_82B_idx.csv\")"
   ]
  },
  {
   "cell_type": "markdown",
   "metadata": {},
   "source": [
    "### Breast 8:2 training and output"
   ]
  },
  {
   "cell_type": "code",
   "execution_count": 22,
   "metadata": {},
   "outputs": [
    {
     "name": "stdout",
     "output_type": "stream",
     "text": [
      "Fold:  1\n",
      "epoch [1/10], train_loss:0.4999, valid_loss:0.1857\n",
      "epoch [2/10], train_loss:0.1230, valid_loss:0.0691\n",
      "epoch [3/10], train_loss:0.0502, valid_loss:0.0364\n",
      "epoch [4/10], train_loss:0.0337, valid_loss:0.0306\n",
      "epoch [5/10], train_loss:0.0293, valid_loss:0.0273\n",
      "epoch [6/10], train_loss:0.0268, valid_loss:0.0263\n",
      "epoch [7/10], train_loss:0.0259, valid_loss:0.0261\n",
      "epoch [8/10], train_loss:0.0257, valid_loss:0.0252\n",
      "epoch [9/10], train_loss:0.0249, valid_loss:0.0255\n",
      "epoch [10/10], train_loss:0.0248, valid_loss:0.0248\n",
      "Fold:  2\n",
      "epoch [1/10], train_loss:0.5201, valid_loss:0.2510\n",
      "epoch [2/10], train_loss:0.1490, valid_loss:0.0622\n",
      "epoch [3/10], train_loss:0.0518, valid_loss:0.0342\n",
      "epoch [4/10], train_loss:0.0339, valid_loss:0.0282\n",
      "epoch [5/10], train_loss:0.0297, valid_loss:0.0251\n",
      "epoch [6/10], train_loss:0.0276, valid_loss:0.0239\n",
      "epoch [7/10], train_loss:0.0263, valid_loss:0.0228\n",
      "epoch [8/10], train_loss:0.0253, valid_loss:0.0222\n",
      "epoch [9/10], train_loss:0.0251, valid_loss:0.0219\n",
      "epoch [10/10], train_loss:0.0248, valid_loss:0.0216\n",
      "Fold:  3\n",
      "epoch [1/10], train_loss:0.5465, valid_loss:0.2357\n",
      "epoch [2/10], train_loss:0.1533, valid_loss:0.0676\n",
      "epoch [3/10], train_loss:0.0505, valid_loss:0.0365\n",
      "epoch [4/10], train_loss:0.0331, valid_loss:0.0299\n",
      "epoch [5/10], train_loss:0.0292, valid_loss:0.0269\n",
      "epoch [6/10], train_loss:0.0267, valid_loss:0.0254\n",
      "epoch [7/10], train_loss:0.0254, valid_loss:0.0252\n",
      "epoch [8/10], train_loss:0.0254, valid_loss:0.0251\n",
      "epoch [9/10], train_loss:0.0248, valid_loss:0.0240\n",
      "epoch [10/10], train_loss:0.0243, valid_loss:0.0237\n",
      "Fold:  4\n",
      "epoch [1/10], train_loss:0.4988, valid_loss:0.1883\n",
      "epoch [2/10], train_loss:0.1273, valid_loss:0.0604\n",
      "epoch [3/10], train_loss:0.0512, valid_loss:0.0567\n",
      "epoch [4/10], train_loss:0.0409, valid_loss:0.0336\n",
      "epoch [5/10], train_loss:0.0308, valid_loss:0.0300\n",
      "epoch [6/10], train_loss:0.0274, valid_loss:0.0278\n",
      "epoch [7/10], train_loss:0.0256, valid_loss:0.0269\n",
      "epoch [8/10], train_loss:0.0251, valid_loss:0.0261\n",
      "epoch [9/10], train_loss:0.0248, valid_loss:0.0257\n",
      "epoch [10/10], train_loss:0.0239, valid_loss:0.0255\n",
      "Fold:  5\n",
      "epoch [1/10], train_loss:0.5095, valid_loss:0.2172\n",
      "epoch [2/10], train_loss:0.1391, valid_loss:0.0556\n",
      "epoch [3/10], train_loss:0.0501, valid_loss:0.0331\n",
      "epoch [4/10], train_loss:0.0353, valid_loss:0.0307\n",
      "epoch [5/10], train_loss:0.0304, valid_loss:0.0268\n",
      "epoch [6/10], train_loss:0.0275, valid_loss:0.0255\n",
      "epoch [7/10], train_loss:0.0260, valid_loss:0.0243\n",
      "epoch [8/10], train_loss:0.0252, valid_loss:0.0237\n",
      "epoch [9/10], train_loss:0.0247, valid_loss:0.0235\n",
      "epoch [10/10], train_loss:0.0244, valid_loss:0.0232\n",
      "Fold:  6\n",
      "epoch [1/10], train_loss:0.5112, valid_loss:0.1719\n",
      "epoch [2/10], train_loss:0.1214, valid_loss:0.0517\n",
      "epoch [3/10], train_loss:0.0429, valid_loss:0.0358\n",
      "epoch [4/10], train_loss:0.0323, valid_loss:0.0303\n",
      "epoch [5/10], train_loss:0.0283, valid_loss:0.0275\n",
      "epoch [6/10], train_loss:0.0264, valid_loss:0.0263\n",
      "epoch [7/10], train_loss:0.0252, valid_loss:0.0257\n",
      "epoch [8/10], train_loss:0.0248, valid_loss:0.0254\n",
      "epoch [9/10], train_loss:0.0245, valid_loss:0.0251\n",
      "epoch [10/10], train_loss:0.0240, valid_loss:0.0250\n",
      "Fold:  7\n",
      "epoch [1/10], train_loss:0.5127, valid_loss:0.2137\n",
      "epoch [2/10], train_loss:0.1474, valid_loss:0.0692\n",
      "epoch [3/10], train_loss:0.0506, valid_loss:0.0419\n",
      "epoch [4/10], train_loss:0.0375, valid_loss:0.0365\n",
      "epoch [5/10], train_loss:0.0318, valid_loss:0.0320\n",
      "epoch [6/10], train_loss:0.0279, valid_loss:0.0289\n",
      "epoch [7/10], train_loss:0.0259, valid_loss:0.0277\n",
      "epoch [8/10], train_loss:0.0245, valid_loss:0.0272\n",
      "epoch [9/10], train_loss:0.0246, valid_loss:0.0269\n",
      "epoch [10/10], train_loss:0.0240, valid_loss:0.0267\n",
      "Fold:  8\n",
      "epoch [1/10], train_loss:0.5120, valid_loss:0.2076\n",
      "epoch [2/10], train_loss:0.1240, valid_loss:0.0568\n",
      "epoch [3/10], train_loss:0.0444, valid_loss:0.0355\n",
      "epoch [4/10], train_loss:0.0323, valid_loss:0.0308\n",
      "epoch [5/10], train_loss:0.0285, valid_loss:0.0277\n",
      "epoch [6/10], train_loss:0.0264, valid_loss:0.0263\n",
      "epoch [7/10], train_loss:0.0256, valid_loss:0.0255\n",
      "epoch [8/10], train_loss:0.0250, valid_loss:0.0256\n",
      "epoch [9/10], train_loss:0.0244, valid_loss:0.0249\n",
      "epoch [10/10], train_loss:0.0241, valid_loss:0.0249\n",
      "Fold:  9\n",
      "epoch [1/10], train_loss:0.4948, valid_loss:0.1972\n",
      "epoch [2/10], train_loss:0.1266, valid_loss:0.0540\n",
      "epoch [3/10], train_loss:0.0470, valid_loss:0.0348\n",
      "epoch [4/10], train_loss:0.0329, valid_loss:0.0293\n",
      "epoch [5/10], train_loss:0.0283, valid_loss:0.0267\n",
      "epoch [6/10], train_loss:0.0267, valid_loss:0.0254\n",
      "epoch [7/10], train_loss:0.0253, valid_loss:0.0246\n",
      "epoch [8/10], train_loss:0.0251, valid_loss:0.0241\n",
      "epoch [9/10], train_loss:0.0246, valid_loss:0.0239\n",
      "epoch [10/10], train_loss:0.0236, valid_loss:0.0238\n",
      "Fold:  10\n",
      "epoch [1/10], train_loss:0.4977, valid_loss:0.1979\n",
      "epoch [2/10], train_loss:0.1301, valid_loss:0.0808\n",
      "epoch [3/10], train_loss:0.0541, valid_loss:0.0366\n",
      "epoch [4/10], train_loss:0.0334, valid_loss:0.0313\n",
      "epoch [5/10], train_loss:0.0292, valid_loss:0.0282\n",
      "epoch [6/10], train_loss:0.0284, valid_loss:0.0275\n",
      "epoch [7/10], train_loss:0.0262, valid_loss:0.0268\n",
      "epoch [8/10], train_loss:0.0258, valid_loss:0.0256\n",
      "epoch [9/10], train_loss:0.0248, valid_loss:0.0249\n",
      "epoch [10/10], train_loss:0.0245, valid_loss:0.0246\n"
     ]
    }
   ],
   "source": [
    "# 10 fold cross validation\n",
    "train_fold_loss = []\n",
    "valid_fold_loss = []\n",
    "embed_dim = train_breast82_torch.shape[1]\n",
    "\n",
    "# assign train_torch and test_torch\n",
    "train_torch = train_breast82_torch\n",
    "test_torch = test_breast82_torch\n",
    "\n",
    "for k, (train_idx,valid_idx) in enumerate(kfold.split(np.arange(len(train_torch)))):\n",
    "    \n",
    "    print('Fold: ', k+1 )\n",
    "    train_sampler = torch.utils.data.SubsetRandomSampler(train_idx)\n",
    "    valid_sampler = torch.utils.data.SubsetRandomSampler(valid_idx)\n",
    "\n",
    "    train_loader = torch.utils.data.DataLoader(\n",
    "      train_torch, batch_size=batch_size, sampler=train_sampler\n",
    "  )\n",
    "    valid_loader = torch.utils.data.DataLoader(\n",
    "      train_torch, batch_size=batch_size, sampler=valid_sampler\n",
    "  )\n",
    "\n",
    "    model = autoencoder().to(device)\n",
    "    optimizer = optim.Adam(model.parameters(), lr=lr)\n",
    "\n",
    "    for epoch in range(epochs):\n",
    "        train_loss = train_epoch(model, device, optimizer, criterion, train_loader)\n",
    "        valid_loss = validation_epoch(model, device, criterion, valid_loader)\n",
    "\n",
    "        print('epoch [{}/{}], train_loss:{:.4f}, valid_loss:{:.4f}'\n",
    "          .format(epoch + 1, epochs, train_loss, valid_loss))\n",
    "    \n",
    "    train_fold_loss.append(train_loss)\n",
    "    valid_fold_loss.append(valid_loss)"
   ]
  },
  {
   "cell_type": "code",
   "execution_count": 23,
   "metadata": {},
   "outputs": [
    {
     "name": "stdout",
     "output_type": "stream",
     "text": [
      "epoch [1/10], train_loss:0.5158\n",
      "epoch [2/10], train_loss:0.1368\n",
      "epoch [3/10], train_loss:0.0505\n",
      "epoch [4/10], train_loss:0.0350\n",
      "epoch [5/10], train_loss:0.0300\n",
      "epoch [6/10], train_loss:0.0273\n",
      "epoch [7/10], train_loss:0.0258\n",
      "epoch [8/10], train_loss:0.0250\n",
      "epoch [9/10], train_loss:0.0246\n",
      "epoch [10/10], train_loss:0.0244\n"
     ]
    }
   ],
   "source": [
    "# formal training\n",
    "train_breast82_loader = torch.utils.data.DataLoader(\n",
    "      train_breast82_torch, batch_size=batch_size, shuffle=True\n",
    "  )\n",
    "test_breast82_loader = torch.utils.data.DataLoader(\n",
    "      test_breast82_torch, batch_size=batch_size, shuffle=False\n",
    "  )\n",
    "\n",
    "model_methy_82B = autoencoder().to(device)\n",
    "optimizer = optim.Adam(model_methy_82B.parameters(), lr=lr)\n",
    "\n",
    "for epoch in range(epochs):\n",
    "    train_loss = train_epoch(model_methy_82B, device, optimizer, criterion, train_breast82_loader)\n",
    "\n",
    "    print('epoch [{}/{}], train_loss:{:.4f}'\n",
    "        .format(epoch + 1, epochs, train_loss))"
   ]
  },
  {
   "cell_type": "code",
   "execution_count": 24,
   "metadata": {},
   "outputs": [
    {
     "name": "stderr",
     "output_type": "stream",
     "text": [
      "C:\\conda\\lib\\site-packages\\torch\\serialization.py:359: UserWarning: Couldn't retrieve source code for container of type autoencoder. It won't be checked for correctness upon loading.\n",
      "  warnings.warn(\"Couldn't retrieve source code for container of \"\n"
     ]
    },
    {
     "data": {
      "text/plain": [
       "autoencoder(\n",
       "  (encoder): Sequential(\n",
       "    (0): Linear(in_features=335854, out_features=1024, bias=True)\n",
       "    (1): ReLU(inplace=True)\n",
       "    (2): Linear(in_features=1024, out_features=512, bias=True)\n",
       "    (3): ReLU(inplace=True)\n",
       "    (4): Linear(in_features=512, out_features=256, bias=True)\n",
       "  )\n",
       "  (decoder): Sequential(\n",
       "    (0): Linear(in_features=256, out_features=512, bias=True)\n",
       "    (1): ReLU(inplace=True)\n",
       "    (2): Linear(in_features=512, out_features=1024, bias=True)\n",
       "    (3): ReLU(inplace=True)\n",
       "    (4): Linear(in_features=1024, out_features=335854, bias=True)\n",
       "    (5): Tanh()\n",
       "  )\n",
       ")"
      ]
     },
     "execution_count": 24,
     "metadata": {},
     "output_type": "execute_result"
    }
   ],
   "source": [
    "# save and load the model\n",
    "torch.save(model_methy_82B, \"methy_82B.pt\")\n",
    "\n",
    "methy_82B = torch.load(\"methy_82B.pt\")\n",
    "methy_82B"
   ]
  },
  {
   "cell_type": "code",
   "execution_count": 25,
   "metadata": {},
   "outputs": [
    {
     "name": "stdout",
     "output_type": "stream",
     "text": [
      "torch.Size([492, 256])\n",
      "tensor([[ 3.5710,  1.4257,  2.1970,  ..., -2.5272, -1.8212,  2.5967],\n",
      "        [ 3.7296,  1.5388,  2.3681,  ..., -2.7706, -1.9150,  2.7146],\n",
      "        [ 3.9683,  1.7149,  2.6789,  ..., -3.1441, -2.0104,  2.8725],\n",
      "        ...,\n",
      "        [ 3.2604,  1.2846,  1.9492,  ..., -2.2460, -1.7404,  2.4628],\n",
      "        [ 3.9428,  1.6234,  2.6157,  ..., -3.0173, -2.0498,  2.9230],\n",
      "        [ 3.1766,  1.2524,  1.7818,  ..., -2.1168, -1.6669,  2.4237]],\n",
      "       grad_fn=<AddmmBackward>)\n"
     ]
    }
   ],
   "source": [
    "# for train data only\n",
    "methy_Tr82B_output = methy_82B.encoder(train_breast82_torch)\n",
    "print(methy_Tr82B_output.shape)\n",
    "print(methy_Tr82B_output)\n",
    "methy_Tr82B_output = methy_Tr82B_output.cpu().detach().numpy()\n",
    "np.savetxt('methy_Tr82B.csv', methy_Tr82B_output, delimiter=',')"
   ]
  },
  {
   "cell_type": "code",
   "execution_count": 20,
   "metadata": {},
   "outputs": [
    {
     "data": {
      "text/plain": [
       "autoencoder(\n",
       "  (encoder): Sequential(\n",
       "    (0): Linear(in_features=335854, out_features=1024, bias=True)\n",
       "    (1): ReLU(inplace=True)\n",
       "    (2): Linear(in_features=1024, out_features=512, bias=True)\n",
       "    (3): ReLU(inplace=True)\n",
       "    (4): Linear(in_features=512, out_features=256, bias=True)\n",
       "  )\n",
       "  (decoder): Sequential(\n",
       "    (0): Linear(in_features=256, out_features=512, bias=True)\n",
       "    (1): ReLU(inplace=True)\n",
       "    (2): Linear(in_features=512, out_features=1024, bias=True)\n",
       "    (3): ReLU(inplace=True)\n",
       "    (4): Linear(in_features=1024, out_features=335854, bias=True)\n",
       "    (5): Tanh()\n",
       "  )\n",
       ")"
      ]
     },
     "execution_count": 20,
     "metadata": {},
     "output_type": "execute_result"
    }
   ],
   "source": [
    "#for test data only\n",
    "methy82B = torch.load('methy_82B.pt')\n",
    "methy82B"
   ]
  },
  {
   "cell_type": "code",
   "execution_count": 21,
   "metadata": {},
   "outputs": [
    {
     "name": "stdout",
     "output_type": "stream",
     "text": [
      "torch.Size([124, 256])\n",
      "tensor([[ 3.5870,  1.4484,  2.2740,  ..., -2.6455, -1.8562,  2.6672],\n",
      "        [ 3.4173,  1.4137,  2.0979,  ..., -2.4712, -1.8428,  2.6139],\n",
      "        [ 3.3464,  1.3543,  2.0041,  ..., -2.3498, -1.8122,  2.5525],\n",
      "        ...,\n",
      "        [ 3.8168,  1.6809,  2.5224,  ..., -3.0009, -2.0387,  2.8993],\n",
      "        [ 3.7411,  1.5333,  2.3327,  ..., -2.7540, -1.9547,  2.8322],\n",
      "        [ 4.0412,  1.7152,  2.6860,  ..., -3.1677, -2.0665,  2.9739]],\n",
      "       grad_fn=<AddmmBackward>)\n"
     ]
    }
   ],
   "source": [
    "methy_Test82B_output = methy82B.encoder(test_breast82_torch)\n",
    "print(methy_Test82B_output.shape)\n",
    "print(methy_Test82B_output)\n",
    "methy_Test82B_output = methy_Test82B_output.cpu().detach().numpy()\n",
    "np.savetxt('methy_Test82B.csv', methy_Test82B_output, delimiter=',')"
   ]
  },
  {
   "cell_type": "code",
   "execution_count": null,
   "metadata": {},
   "outputs": [],
   "source": []
  }
 ],
 "metadata": {
  "kernelspec": {
   "display_name": "Python 3",
   "language": "python",
   "name": "python3"
  },
  "language_info": {
   "codemirror_mode": {
    "name": "ipython",
    "version": 3
   },
   "file_extension": ".py",
   "mimetype": "text/x-python",
   "name": "python",
   "nbconvert_exporter": "python",
   "pygments_lexer": "ipython3",
   "version": "3.8.5"
  }
 },
 "nbformat": 4,
 "nbformat_minor": 4
}
